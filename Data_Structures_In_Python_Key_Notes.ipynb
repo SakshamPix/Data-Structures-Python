{
  "nbformat": 4,
  "nbformat_minor": 0,
  "metadata": {
    "colab": {
      "provenance": [],
      "authorship_tag": "ABX9TyMsbHZeHdDCG7tXMnesJzwX",
      "include_colab_link": true
    },
    "kernelspec": {
      "name": "python3",
      "display_name": "Python 3"
    },
    "language_info": {
      "name": "python"
    }
  },
  "cells": [
    {
      "cell_type": "markdown",
      "metadata": {
        "id": "view-in-github",
        "colab_type": "text"
      },
      "source": [
        "<a href=\"https://colab.research.google.com/github/SakshamPix/Data-Structures-Python/blob/main/Data_Structures_In_Python_Key_Notes.ipynb\" target=\"_parent\"><img src=\"https://colab.research.google.com/assets/colab-badge.svg\" alt=\"Open In Colab\"/></a>"
      ]
    },
    {
      "cell_type": "code",
      "execution_count": 1,
      "metadata": {
        "colab": {
          "base_uri": "https://localhost:8080/"
        },
        "id": "k4VCGlSJIX5u",
        "outputId": "2f5bee6a-5217-4a45-d16d-3c504a533dde"
      },
      "outputs": [
        {
          "output_type": "stream",
          "name": "stdout",
          "text": [
            "g\n",
            "cow\n",
            "Kevin\n"
          ]
        }
      ],
      "source": [
        "#Sequences : Strings , Lists and Tuples\n",
        "\n",
        "#String\n",
        "x = 'frog'\n",
        "print (x[3])\n",
        "\n",
        "#List\n",
        "x=['pig','cow','horse']\n",
        "print (x[1])\n",
        "\n",
        "#Tuple\n",
        "x = ('Kevin' , 'Niklas', 'Jenny', 'Craig')\n",
        "print(x[0])"
      ]
    },
    {
      "cell_type": "code",
      "source": [
        "#Slicing : Slice out substrings , sublists , subtuples using indexes\n",
        "x = 'computer'\n",
        "print(x[1:4])\n",
        "print(x[1:6:2])\n",
        "print(x[3:])\n",
        "print(x[:-2])"
      ],
      "metadata": {
        "colab": {
          "base_uri": "https://localhost:8080/"
        },
        "id": "MLc5v4XrN6_z",
        "outputId": "106aed75-7882-45cf-d5b5-f4f3b9025bb4"
      },
      "execution_count": 3,
      "outputs": [
        {
          "output_type": "stream",
          "name": "stdout",
          "text": [
            "omp\n",
            "opt\n",
            "puter\n",
            "comput\n"
          ]
        }
      ]
    },
    {
      "cell_type": "code",
      "source": [
        "#adding/concatenating - combine 2 sequences of the same type by using +\n",
        "\n",
        "x = 'horse' + 'shoe'\n",
        "print(x)\n",
        "\n",
        "#list\n",
        "y=['pig','cow'] + ['horse']\n",
        "print(y)\n",
        "\n",
        "#tuple\n",
        "z = ('Kevin', 'Niklas', 'Jenny') + ('Craig',)\n",
        "print(z)"
      ],
      "metadata": {
        "colab": {
          "base_uri": "https://localhost:8080/"
        },
        "id": "H1LC816gOZ-S",
        "outputId": "cfdc8866-b5c5-4e81-9f9d-2e10d4f4dc98"
      },
      "execution_count": 4,
      "outputs": [
        {
          "output_type": "stream",
          "name": "stdout",
          "text": [
            "horseshoe\n",
            "['pig', 'cow', 'horse']\n",
            "('Kevin', 'Niklas', 'Jenny', 'Craig')\n"
          ]
        }
      ]
    },
    {
      "cell_type": "code",
      "source": [
        "#multiplying - multiply a sequence using *\n",
        "\n",
        "#string\n",
        "x = 'bug'*3\n",
        "print(x)\n",
        "\n",
        "#list\n",
        "y=[8,5] * 3\n",
        "print(y)\n",
        "\n",
        "#tuple\n",
        "z = (2,4)*3\n",
        "print(z)"
      ],
      "metadata": {
        "colab": {
          "base_uri": "https://localhost:8080/"
        },
        "id": "EPRecfPuPYyU",
        "outputId": "a90a3122-4c5d-433a-8034-cf3a07637d06"
      },
      "execution_count": 5,
      "outputs": [
        {
          "output_type": "stream",
          "name": "stdout",
          "text": [
            "bugbugbug\n",
            "[8, 5, 8, 5, 8, 5]\n",
            "(2, 4, 2, 4, 2, 4)\n"
          ]
        }
      ]
    }
  ]
}